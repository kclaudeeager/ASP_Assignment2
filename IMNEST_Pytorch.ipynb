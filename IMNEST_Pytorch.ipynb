{
  "nbformat": 4,
  "nbformat_minor": 0,
  "metadata": {
    "colab": {
      "private_outputs": true,
      "provenance": [],
      "gpuType": "T4",
      "cell_execution_strategy": "setup",
      "authorship_tag": "ABX9TyMFBjbLc/ej+vztx+S2nTKd",
      "include_colab_link": true
    },
    "kernelspec": {
      "name": "python3",
      "display_name": "Python 3"
    },
    "language_info": {
      "name": "python"
    },
    "accelerator": "GPU"
  },
  "cells": [
    {
      "cell_type": "markdown",
      "metadata": {
        "id": "view-in-github",
        "colab_type": "text"
      },
      "source": [
        "<a href=\"https://colab.research.google.com/github/kclaudeeager/ASP_Assignment2/blob/main/IMNEST_Pytorch.ipynb\" target=\"_parent\"><img src=\"https://colab.research.google.com/assets/colab-badge.svg\" alt=\"Open In Colab\"/></a>"
      ]
    },
    {
      "cell_type": "code",
      "execution_count": null,
      "metadata": {
        "id": "M6sDdEr6qVDx"
      },
      "outputs": [],
      "source": [
        "import torch\n",
        "import torchvision\n",
        "from torchvision import transforms, datasets"
      ]
    },
    {
      "cell_type": "code",
      "source": [
        "# prompt: give me the starting for pytorch\n",
        "\n",
        "# Load the data\n",
        "train_set = datasets.MNIST(root='./data', train=True, download=True,\n",
        "                               transform=transforms.Compose([\n",
        "                                   transforms.ToTensor(),\n",
        "                                   transforms.Normalize((0.1307,), (0.3081,))\n",
        "                               ]))\n",
        "\n",
        "test_set = datasets.MNIST(root='./data', train=False, download=True,\n",
        "                               transform=transforms.Compose([\n",
        "                                   transforms.ToTensor(),\n",
        "                                   transforms.Normalize((0.1307,), (0.3081,))\n",
        "                               ]))\n",
        "\n",
        "# Create data loaders\n",
        "train_dataset = torch.utils.data.DataLoader(train_set, batch_size=64,\n",
        "                                          shuffle=True, num_workers=4)\n",
        "\n",
        "test_dataset = torch.utils.data.DataLoader(test_set, batch_size=64,\n",
        "                                         shuffle=False, num_workers=4)\n"
      ],
      "metadata": {
        "id": "XA3yDmCbqkw7"
      },
      "execution_count": null,
      "outputs": []
    },
    {
      "cell_type": "code",
      "source": [
        "import matplotlib.pyplot as plt\n",
        "for data in train_dataset:\n",
        "  print(data[0].shape)\n",
        "  plt.imshow(data[0][8].view([28,28]))\n",
        "  plt.show()\n",
        "  break\n"
      ],
      "metadata": {
        "id": "73SYnAB4sbrw"
      },
      "execution_count": null,
      "outputs": []
    },
    {
      "cell_type": "code",
      "source": [
        "# prompt: #Analyse the balance of the dataset\n",
        "\n",
        "from collections import Counter\n",
        "print('Total number of training images:', len(train_set))\n",
        "print('Total number of test images:', len(test_set))\n",
        "print('Number of training images per class:', Counter(train_set.targets))\n",
        "print('Number of test images per class:', Counter(test_set.targets))\n",
        "\n",
        "total =0\n",
        "counter_dict = {0:0,1:0,2:0,3:0,4:0,5:0,6:0,7:0,8:0,9:0}\n",
        "\n",
        "for data in train_dataset:\n",
        "  xs,ys = data\n",
        "\n",
        "  for y in ys:\n",
        "    counter_dict[int(y)] += 1\n",
        "    total += 1\n",
        "print(counter_dict)\n"
      ],
      "metadata": {
        "id": "G7t702qb4VBA"
      },
      "execution_count": null,
      "outputs": []
    },
    {
      "cell_type": "code",
      "source": [
        "# prompt: Get the percentage of each image in dataset\n",
        "\n",
        "for key,value in counter_dict.items():\n",
        "  print(f\"The percentage of {key} in the dataset is {round(value/total*100,2)}%\")\n"
      ],
      "metadata": {
        "id": "KDT9eA_-7vvF"
      },
      "execution_count": null,
      "outputs": []
    },
    {
      "cell_type": "code",
      "source": [
        "# prompt: show distinct image distribution for unique classes\n",
        "\n",
        "plt.bar(counter_dict.keys(),counter_dict.values())\n",
        "plt.xlabel(\"Class\")\n",
        "plt.ylabel(\"Number of Images\")\n",
        "plt.title(\"Distribution of Images per Class\")\n",
        "plt.show()\n"
      ],
      "metadata": {
        "id": "jyQG-OWRdxaM"
      },
      "execution_count": null,
      "outputs": []
    },
    {
      "cell_type": "code",
      "source": [
        "# prompt: Generate the bar plot showing the distribution of the dataset, each image with it's count in form of percentages starting from here: counter_dict_percent = [{key:round(value/total*100,2)} for key,value in counter_dict.items()] print(counter_dict_percent)\n",
        "\n",
        "import matplotlib.pyplot as plt\n",
        "counter_dict_percent = {}\n",
        "for key,value in counter_dict.items():\n",
        "   counter_dict_percent.update({key:round(value/total*100,2)})\n",
        "plt.bar(counter_dict_percent.keys(),counter_dict_percent.values())\n",
        "plt.xlabel(\"Digits\")\n",
        "plt.ylabel(\"Percentage\")\n",
        "plt.title(\"Distribution of Digits in the MNIST Dataset\")\n",
        "plt.show()\n"
      ],
      "metadata": {
        "id": "bSW64ULh8hWS"
      },
      "execution_count": null,
      "outputs": []
    },
    {
      "cell_type": "code",
      "source": [
        "import torch.nn as nn\n",
        "import torch.nn.functional as F"
      ],
      "metadata": {
        "id": "zsuG5oncAQoH"
      },
      "execution_count": null,
      "outputs": []
    },
    {
      "cell_type": "code",
      "source": [
        "# Build the NN\n",
        "class Net(nn.Module):\n",
        "  def __init__(self):\n",
        "    super().__init__()\n",
        "    # define the input as the flattened shape of our data 28/28 and define the output (hidden layers to be 64)\n",
        "    self.fc1 = nn.Linear(28*28,64)\n",
        "    self.fc2 = nn.Linear(64,64)\n",
        "    self.fc3 = nn.Linear(64,64)\n",
        "    # last layer gets the output of 10 classes\n",
        "    self.fc4 = nn.Linear(64,10)\n",
        "   #(FFNN) feed forward NN\n",
        "  def forward(self,x):\n",
        "    x = F.relu(self.fc1(x))\n",
        "    x = F.relu(self.fc2(x))\n",
        "    x = F.relu(self.fc3(x))\n",
        "    x = self.fc4(x)\n",
        "    # Distributing the classes (dim=1)\n",
        "    return F.log_softmax(x,dim=1)\n",
        "net = Net()\n",
        "print(net)"
      ],
      "metadata": {
        "id": "e7Ko81-FAeWw"
      },
      "execution_count": null,
      "outputs": []
    },
    {
      "cell_type": "code",
      "source": [
        "import torch.optim as optim\n",
        "optimizer = optim.Adam(net.parameters(),lr=0.001)\n",
        "EPOCHS = 3\n",
        "for epoch in range(EPOCHS):\n",
        "  for data in train_dataset:\n",
        "    X,y = data\n",
        "    net.zero_grad()\n",
        "    output = net(X.view([-1,28*28]))\n",
        "    # Use nll_los because the output is a scaller not a vector else use mse\n",
        "    loss = F.nll_loss(output,y)\n",
        "    loss.backward() # Back propagation\n",
        "    optimizer.step()# Adjust weights\n",
        "  print(f\"Loss as epoch {epoch}:{loss}\")\n",
        "\n",
        "\n",
        "\n",
        ""
      ],
      "metadata": {
        "id": "uVkO_98DQeHC"
      },
      "execution_count": null,
      "outputs": []
    },
    {
      "cell_type": "code",
      "source": [
        "correct = 0\n",
        "total = 0\n",
        "with torch.no_grad():\n",
        "  for data in train_dataset:\n",
        "    X,y= data\n",
        "    net.zero_grad()\n",
        "    output = net(X.view([-1,28*28]))\n",
        "    correct += output.argmax(dim=1).eq(y).sum().item()\n",
        "    total += y.size(0)\n"
      ],
      "metadata": {
        "id": "_aa63TtTjSPi"
      },
      "execution_count": null,
      "outputs": []
    },
    {
      "cell_type": "code",
      "source": [
        "print(total)\n",
        "print(correct)\n",
        "print(f\"Accuracy is : {round(correct/total,3)}\")"
      ],
      "metadata": {
        "id": "FoNMKzpyh_9v"
      },
      "execution_count": null,
      "outputs": []
    },
    {
      "cell_type": "code",
      "source": [
        "plt.imshow(X[0].view(28,28))\n",
        "plt.show()"
      ],
      "metadata": {
        "id": "ZEZW8XXknSBO"
      },
      "execution_count": null,
      "outputs": []
    },
    {
      "cell_type": "code",
      "source": [
        "print(torch.argmax(net(X[0].view(-1,28*28))[0]))"
      ],
      "metadata": {
        "id": "2oFsA_gRnepi"
      },
      "execution_count": null,
      "outputs": []
    }
  ]
}